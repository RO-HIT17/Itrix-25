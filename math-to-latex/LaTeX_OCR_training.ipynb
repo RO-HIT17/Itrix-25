{
  "cells": [
    {
      "cell_type": "code",
      "execution_count": 1,
      "metadata": {
        "id": "r396ah-Q3EQc"
      },
      "outputs": [],
      "source": [
        "!pip install pix2tex[train] -qq"
      ]
    },
    {
      "cell_type": "code",
      "execution_count": 2,
      "metadata": {
        "id": "dZ4PLwkb3RIs"
      },
      "outputs": [],
      "source": [
        "import os\n",
        "!mkdir -p LaTeX-OCR\n",
        "os.chdir('LaTeX-OCR')"
      ]
    },
    {
      "cell_type": "code",
      "execution_count": 3,
      "metadata": {
        "colab": {
          "base_uri": "https://localhost:8080/"
        },
        "id": "h3be4aV_0mbq",
        "outputId": "98d19d84-08c9-491b-e54a-02164c2f49ce"
      },
      "outputs": [
        {
          "name": "stdout",
          "output_type": "stream",
          "text": [
            "Looking in indexes: https://download.pytorch.org/whl/cu118\n",
            "Requirement already satisfied: torch==2.1.0 in /usr/local/lib/python3.11/dist-packages (2.1.0+cu118)\n",
            "Requirement already satisfied: torchtext==0.16.0 in /usr/local/lib/python3.11/dist-packages (0.16.0+cpu)\n",
            "Requirement already satisfied: torchvision==0.16.0 in /usr/local/lib/python3.11/dist-packages (0.16.0+cu118)\n",
            "Requirement already satisfied: torchaudio==2.1.0 in /usr/local/lib/python3.11/dist-packages (2.1.0+cu118)\n",
            "Requirement already satisfied: filelock in /usr/local/lib/python3.11/dist-packages (from torch==2.1.0) (3.17.0)\n",
            "Requirement already satisfied: typing-extensions in /usr/local/lib/python3.11/dist-packages (from torch==2.1.0) (4.12.2)\n",
            "Requirement already satisfied: sympy in /usr/local/lib/python3.11/dist-packages (from torch==2.1.0) (1.13.1)\n",
            "Requirement already satisfied: networkx in /usr/local/lib/python3.11/dist-packages (from torch==2.1.0) (3.4.2)\n",
            "Requirement already satisfied: jinja2 in /usr/local/lib/python3.11/dist-packages (from torch==2.1.0) (3.1.6)\n",
            "Requirement already satisfied: fsspec in /usr/local/lib/python3.11/dist-packages (from torch==2.1.0) (2024.10.0)\n",
            "Requirement already satisfied: triton==2.1.0 in /usr/local/lib/python3.11/dist-packages (from torch==2.1.0) (2.1.0)\n",
            "Requirement already satisfied: tqdm in /usr/local/lib/python3.11/dist-packages (from torchtext==0.16.0) (4.67.1)\n",
            "Requirement already satisfied: requests in /usr/local/lib/python3.11/dist-packages (from torchtext==0.16.0) (2.32.3)\n",
            "Requirement already satisfied: numpy in /usr/local/lib/python3.11/dist-packages (from torchtext==0.16.0) (1.26.4)\n",
            "Requirement already satisfied: torchdata==0.7.0 in /usr/local/lib/python3.11/dist-packages (from torchtext==0.16.0) (0.7.0)\n",
            "Requirement already satisfied: pillow!=8.3.*,>=5.3.0 in /usr/local/lib/python3.11/dist-packages (from torchvision==0.16.0) (11.1.0)\n",
            "Requirement already satisfied: urllib3>=1.25 in /usr/local/lib/python3.11/dist-packages (from torchdata==0.7.0->torchtext==0.16.0) (2.3.0)\n",
            "Requirement already satisfied: MarkupSafe>=2.0 in /usr/local/lib/python3.11/dist-packages (from jinja2->torch==2.1.0) (3.0.2)\n",
            "Requirement already satisfied: charset-normalizer<4,>=2 in /usr/local/lib/python3.11/dist-packages (from requests->torchtext==0.16.0) (3.4.1)\n",
            "Requirement already satisfied: idna<4,>=2.5 in /usr/local/lib/python3.11/dist-packages (from requests->torchtext==0.16.0) (3.10)\n",
            "Requirement already satisfied: certifi>=2017.4.17 in /usr/local/lib/python3.11/dist-packages (from requests->torchtext==0.16.0) (2025.1.31)\n",
            "Requirement already satisfied: mpmath<1.4,>=1.1.0 in /usr/local/lib/python3.11/dist-packages (from sympy->torch==2.1.0) (1.3.0)\n"
          ]
        }
      ],
      "source": [
        "!pip install torch==2.1.0 torchtext==0.16.0 torchvision==0.16.0 torchaudio==2.1.0 --index-url https://download.pytorch.org/whl/cu118"
      ]
    },
    {
      "cell_type": "code",
      "execution_count": 4,
      "metadata": {
        "colab": {
          "base_uri": "https://localhost:8080/"
        },
        "id": "cUsTlxXV3Mot",
        "outputId": "fe07aa72-1b85-47c8-c48f-e827c3124638"
      },
      "outputs": [
        {
          "name": "stdout",
          "output_type": "stream",
          "text": [
            "\u001b[31mERROR: Ignored the following yanked versions: 3.4.11.39, 3.4.11.41, 4.4.0.40, 4.4.0.42, 4.4.0.44, 4.5.5.62, 4.7.0.68, 4.8.0.74\u001b[0m\u001b[31m\n",
            "\u001b[0m\u001b[31mERROR: Could not find a version that satisfies the requirement opencv-python-headless==4.1.2.30 (from versions: 3.4.10.37, 3.4.11.43, 3.4.11.45, 3.4.13.47, 3.4.15.55, 3.4.16.59, 3.4.17.61, 3.4.17.63, 3.4.18.65, 4.3.0.38, 4.4.0.46, 4.5.1.48, 4.5.3.56, 4.5.4.58, 4.5.4.60, 4.5.5.64, 4.6.0.66, 4.7.0.72, 4.8.0.76, 4.8.1.78, 4.9.0.80, 4.10.0.82, 4.10.0.84, 4.11.0.86)\u001b[0m\u001b[31m\n",
            "\u001b[0m\u001b[31mERROR: No matching distribution found for opencv-python-headless==4.1.2.30\u001b[0m\u001b[31m\n",
            "\u001b[0m"
          ]
        }
      ],
      "source": [
        "!pip install gpustat -q\n",
        "!pip install opencv-python-headless==4.1.2.30 -U -q\n",
        "!pip install --upgrade --no-cache-dir gdown -q"
      ]
    },
    {
      "cell_type": "code",
      "execution_count": 5,
      "metadata": {
        "colab": {
          "base_uri": "https://localhost:8080/"
        },
        "id": "uhLzh5vyaCaL",
        "outputId": "dd3b6aee-9ed4-443d-9ea1-ea251a7c0ae4"
      },
      "outputs": [
        {
          "name": "stdout",
          "output_type": "stream",
          "text": [
            "\u001b[1m\u001b[37maaeba3baf849\u001b[m  Sat Mar 15 03:38:36 2025  \u001b[1m\u001b[30m550.54.15\u001b[m\n",
            "\u001b[36m[0]\u001b[m \u001b[34mTesla T4\u001b[m |\u001b[31m 36°C\u001b[m, \u001b[32m  0 %\u001b[m | \u001b[36m\u001b[1m\u001b[33m    0\u001b[m / \u001b[33m15360\u001b[m MB |\n"
          ]
        }
      ],
      "source": [
        "# check what GPU we have\n",
        "!gpustat"
      ]
    },
    {
      "cell_type": "code",
      "execution_count": 6,
      "metadata": {
        "colab": {
          "base_uri": "https://localhost:8080/"
        },
        "id": "aAz37dDU21zu",
        "outputId": "aa74582f-c363-44e7-8a92-c47fbb0abb2d"
      },
      "outputs": [
        {
          "name": "stdout",
          "output_type": "stream",
          "text": [
            "/usr/local/lib/python3.11/dist-packages/gdown/__main__.py:140: FutureWarning: Option `--id` was deprecated in version 4.3.1 and will be removed in 5.0. You don't need to pass it anymore to use a file ID.\n",
            "  warnings.warn(\n",
            "Downloading...\n",
            "From (original): https://drive.google.com/uc?id=13vjxGYrFCuYnwgDIUqkxsNGKk__D_sOM\n",
            "From (redirected): https://drive.google.com/uc?id=13vjxGYrFCuYnwgDIUqkxsNGKk__D_sOM&confirm=t&uuid=c0b4aa8f-daea-4980-b214-665e583df11a\n",
            "To: /content/LaTeX-OCR/dataset/data/crohme.zip\n",
            "100% 59.8M/59.8M [00:00<00:00, 205MB/s]\n",
            "/usr/local/lib/python3.11/dist-packages/gdown/__main__.py:140: FutureWarning: Option `--id` was deprecated in version 4.3.1 and will be removed in 5.0. You don't need to pass it anymore to use a file ID.\n",
            "  warnings.warn(\n",
            "Downloading...\n",
            "From (original): https://drive.google.com/uc?id=176PKaCUDWmTJdQwc-OfkO0y8t4gLsIvQ\n",
            "From (redirected): https://drive.google.com/uc?id=176PKaCUDWmTJdQwc-OfkO0y8t4gLsIvQ&confirm=t&uuid=6ec57ed2-9f33-40ac-8af0-79ac1589ae02\n",
            "To: /content/LaTeX-OCR/dataset/data/pdf.zip\n",
            "100% 284M/284M [00:01<00:00, 171MB/s]\n",
            "/usr/local/lib/python3.11/dist-packages/gdown/__main__.py:140: FutureWarning: Option `--id` was deprecated in version 4.3.1 and will be removed in 5.0. You don't need to pass it anymore to use a file ID.\n",
            "  warnings.warn(\n",
            "Downloading...\n",
            "From: https://drive.google.com/uc?id=1QUjX6PFWPa-HBWdcY-7bA5TRVUnbyS1D\n",
            "To: /content/LaTeX-OCR/dataset/data/pdfmath.txt\n",
            "100% 36.6M/36.6M [00:00<00:00, 146MB/s]\n"
          ]
        }
      ],
      "source": [
        "!mkdir -p dataset/data\n",
        "!mkdir images\n",
        "# Google Drive ids\n",
        "# handwritten: 13vjxGYrFCuYnwgDIUqkxsNGKk__D_sOM\n",
        "# pdf - images: 176PKaCUDWmTJdQwc-OfkO0y8t4gLsIvQ\n",
        "# pdf - math: 1QUjX6PFWPa-HBWdcY-7bA5TRVUnbyS1D\n",
        "!gdown -O dataset/data/crohme.zip --id 13vjxGYrFCuYnwgDIUqkxsNGKk__D_sOM\n",
        "!gdown -O dataset/data/pdf.zip --id 176PKaCUDWmTJdQwc-OfkO0y8t4gLsIvQ\n",
        "!gdown -O dataset/data/pdfmath.txt --id 1QUjX6PFWPa-HBWdcY-7bA5TRVUnbyS1D\n",
        "os.chdir('dataset/data')\n",
        "!unzip -q crohme.zip\n",
        "!unzip -q pdf.zip\n",
        "# split handwritten data into val set and train set\n",
        "os.chdir('images')\n",
        "!mkdir ../valimages\n",
        "!ls | shuf -n 1000 | xargs -i mv {} ../valimages\n",
        "os.chdir('../../..')"
      ]
    },
    {
      "cell_type": "code",
      "execution_count": 7,
      "metadata": {
        "colab": {
          "base_uri": "https://localhost:8080/"
        },
        "id": "UzwOg9nvxUO9",
        "outputId": "f9254442-f6e6-4cdb-e71f-1804bcc9b0c6"
      },
      "outputs": [
        {
          "name": "stdout",
          "output_type": "stream",
          "text": [
            "Drive already mounted at /content/drive; to attempt to forcibly remount, call drive.mount(\"/content/drive\", force_remount=True).\n"
          ]
        }
      ],
      "source": [
        "from google.colab import drive\n",
        "drive.mount('/content/drive')"
      ]
    },
    {
      "cell_type": "markdown",
      "metadata": {
        "id": "2BMuIqRIqG-8"
      },
      "source": [
        "Now we generate the datasets. We can string multiple datasets together to get one large lookup table. The only thing saved in these pkl files are image sizes, image location and the ground truth latex code. That way we can serve batches of images with the same dimensionality."
      ]
    },
    {
      "cell_type": "code",
      "execution_count": 8,
      "metadata": {
        "colab": {
          "base_uri": "https://localhost:8080/"
        },
        "id": "1JebcEarl-g6",
        "outputId": "707f8f55-d1d2-46e4-f549-9b9f3f1b8870"
      },
      "outputs": [
        {
          "name": "stdout",
          "output_type": "stream",
          "text": [
            "/usr/local/lib/python3.11/dist-packages/albumentations/__init__.py:24: UserWarning: A new version of Albumentations is available: 2.0.5 (you have 1.4.24). Upgrade using: pip install -U albumentations. To disable automatic update checks, set the environment variable NO_ALBUMENTATIONS_UPDATE to 1.\n",
            "  check_for_updates()\n",
            "/usr/local/lib/python3.11/dist-packages/pydantic/main.py:426: UserWarning: Pydantic serializer warnings:\n",
            "  Expected `dict[str, any]` but got `UniformParams` with value `UniformParams(noise_type=... 0.058823529411764705)])` - serialized value may not be as expected\n",
            "  return self.__pydantic_serializer__.to_python(\n",
            "Generate dataset\n",
            "100% 9822/9822 [00:00<00:00, 23389.14it/s]\n",
            "100% 158480/158480 [00:06<00:00, 22925.15it/s]\n"
          ]
        }
      ],
      "source": [
        "!python -m pix2tex.dataset.dataset -i dataset/data/images dataset/data/train -e dataset/data/CROHME_math.txt dataset/data/pdfmath.txt -o dataset/data/train.pkl"
      ]
    },
    {
      "cell_type": "code",
      "execution_count": 9,
      "metadata": {
        "colab": {
          "base_uri": "https://localhost:8080/"
        },
        "id": "x_Orutb37xHD",
        "outputId": "0397ec0a-4a98-4e81-c240-6ae61aa16c66"
      },
      "outputs": [
        {
          "name": "stdout",
          "output_type": "stream",
          "text": [
            "/usr/local/lib/python3.11/dist-packages/albumentations/__init__.py:24: UserWarning: A new version of Albumentations is available: 2.0.5 (you have 1.4.24). Upgrade using: pip install -U albumentations. To disable automatic update checks, set the environment variable NO_ALBUMENTATIONS_UPDATE to 1.\n",
            "  check_for_updates()\n",
            "/usr/local/lib/python3.11/dist-packages/pydantic/main.py:426: UserWarning: Pydantic serializer warnings:\n",
            "  Expected `dict[str, any]` but got `UniformParams` with value `UniformParams(noise_type=... 0.058823529411764705)])` - serialized value may not be as expected\n",
            "  return self.__pydantic_serializer__.to_python(\n",
            "Generate dataset\n",
            "100% 1000/1000 [00:01<00:00, 931.54it/s]\n",
            "100% 6765/6765 [00:00<00:00, 34221.56it/s]\n"
          ]
        }
      ],
      "source": [
        "!python -m pix2tex.dataset.dataset -i dataset/data/valimages dataset/data/val -e dataset/data/CROHME_math.txt dataset/data/pdfmath.txt -o dataset/data/val.pkl"
      ]
    },
    {
      "cell_type": "code",
      "execution_count": 10,
      "metadata": {
        "colab": {
          "base_uri": "https://localhost:8080/"
        },
        "id": "I3iOyEEBbw58",
        "outputId": "1a9f598a-4aee-4df0-96c4-2a654f32630f"
      },
      "outputs": [
        {
          "name": "stdout",
          "output_type": "stream",
          "text": [
            "  % Total    % Received % Xferd  Average Speed   Time    Time     Time  Current\n",
            "                                 Dload  Upload   Total   Spent    Left  Speed\n",
            "  0     0    0     0    0     0      0      0 --:--:-- --:--:-- --:--:--     0\n",
            "100 97.3M  100 97.3M    0     0  63.5M      0  0:00:01  0:00:01 --:--:--  194M\n"
          ]
        }
      ],
      "source": [
        "# download the weights we want to fine tune\n",
        "!curl -L -o weights.pth https://github.com/lukas-blecher/LaTeX-OCR/releases/download/v0.0.1/weights.pth"
      ]
    },
    {
      "cell_type": "code",
      "execution_count": 11,
      "metadata": {
        "id": "vow2NnpHmWt0"
      },
      "outputs": [],
      "source": [
        "# If using wandb\n",
        "!pip install -q wandb\n",
        "# you can cancel this if you don't wan't to use it or don't have a W&B acc.\n",
        "#!wandb login"
      ]
    },
    {
      "cell_type": "code",
      "execution_count": 12,
      "metadata": {
        "id": "OnsNCLp84QSY"
      },
      "outputs": [],
      "source": [
        "# generate colab specific config (set 'debug' to true if wandb is not used)\n",
        "!echo {backbone_layers: [2, 3, 7], betas: [0.9, 0.999], batchsize: 10, bos_token: 1, channels: 1, data: dataset/data/train.pkl, debug: true, decoder_args: {'attn_on_attn': true, 'cross_attend': true, 'ff_glu': true, 'rel_pos_bias': false, 'use_scalenorm': false}, dim: 256, encoder_depth: 4, eos_token: 2, epochs: 50, gamma: 0.9995, heads: 8, id: null, load_chkpt: 'weights.pth', lr: 0.001, lr_step: 30, max_height: 192, max_seq_len: 512, max_width: 672, min_height: 32, min_width: 32, model_path: checkpoints, name: mixed, num_layers: 4, num_tokens: 8000, optimizer: Adam, output_path: outputs, pad: false, pad_token: 0, patch_size: 16, sample_freq: 2000, save_freq: 1, scheduler: StepLR, seed: 42, temperature: 0.2, test_samples: 5, testbatchsize: 20, tokenizer: dataset/tokenizer.json, valbatches: 100, valdata: dataset/data/val.pkl} > colab.yaml"
      ]
    },
    {
      "cell_type": "code",
      "execution_count": null,
      "metadata": {
        "colab": {
          "base_uri": "https://localhost:8080/"
        },
        "id": "c8NU5j2k3z36",
        "outputId": "23a652f7-8522-456c-cc49-8bd3009b68b4"
      },
      "outputs": [
        {
          "name": "stdout",
          "output_type": "stream",
          "text": [
            "/usr/local/lib/python3.11/dist-packages/albumentations/__init__.py:24: UserWarning: A new version of Albumentations is available: 2.0.5 (you have 1.4.24). Upgrade using: pip install -U albumentations. To disable automatic update checks, set the environment variable NO_ALBUMENTATIONS_UPDATE to 1.\n",
            "  check_for_updates()\n",
            "/usr/local/lib/python3.11/dist-packages/pydantic/main.py:426: UserWarning: Pydantic serializer warnings:\n",
            "  Expected `dict[str, any]` but got `UniformParams` with value `UniformParams(noise_type=... 0.058823529411764705)])` - serialized value may not be as expected\n",
            "  return self.__pydantic_serializer__.to_python(\n",
            "\u001b[34m\u001b[1mwandb\u001b[0m: Using wandb-core as the SDK backend.  Please refer to https://wandb.me/wandb-core for more information.\n",
            "\u001b[34m\u001b[1mwandb\u001b[0m: (1) Create a W&B account\n",
            "\u001b[34m\u001b[1mwandb\u001b[0m: (2) Use an existing W&B account\n",
            "\u001b[34m\u001b[1mwandb\u001b[0m: (3) Don't visualize my results\n",
            "\u001b[34m\u001b[1mwandb\u001b[0m: Enter your choice: 1\n",
            "\u001b[34m\u001b[1mwandb\u001b[0m: You chose 'Create a W&B account'\n",
            "\u001b[34m\u001b[1mwandb\u001b[0m: Create an account here: https://wandb.ai/authorize?signup=true\n",
            "\u001b[34m\u001b[1mwandb\u001b[0m: Paste an API key from your profile and hit enter, or press ctrl+c to quit: \n",
            "\u001b[34m\u001b[1mwandb\u001b[0m: No netrc file found, creating one.\n",
            "\u001b[34m\u001b[1mwandb\u001b[0m: Appending key for api.wandb.ai to your netrc file: /root/.netrc\n",
            "\u001b[34m\u001b[1mwandb\u001b[0m: Currently logged in as: \u001b[33mrohit-selvakumaran\u001b[0m (\u001b[33mrohit-selvakumaran-anna-university\u001b[0m) to \u001b[32mhttps://api.wandb.ai\u001b[0m. Use \u001b[1m`wandb login --relogin`\u001b[0m to force relogin\n",
            "\u001b[34m\u001b[1mwandb\u001b[0m: Tracking run with wandb version 0.19.8\n",
            "\u001b[34m\u001b[1mwandb\u001b[0m: Run data is saved locally in \u001b[35m\u001b[1m/content/LaTeX-OCR/wandb/run-20250315_034137-jiufgex4\u001b[0m\n",
            "\u001b[34m\u001b[1mwandb\u001b[0m: Run \u001b[1m`wandb offline`\u001b[0m to turn off syncing.\n",
            "\u001b[34m\u001b[1mwandb\u001b[0m: Syncing run \u001b[33mmixed\u001b[0m\n",
            "\u001b[34m\u001b[1mwandb\u001b[0m: ⭐️ View project at \u001b[34m\u001b[4mhttps://wandb.ai/rohit-selvakumaran-anna-university/uncategorized\u001b[0m\n",
            "\u001b[34m\u001b[1mwandb\u001b[0m: 🚀 View run at \u001b[34m\u001b[4mhttps://wandb.ai/rohit-selvakumaran-anna-university/uncategorized/runs/jiufgex4\u001b[0m\n",
            "Loss: 0.1021:  12% 1999/16298 [10:30<32:47,  7.27it/s]\n",
            "  0% 0/420 [00:00<?, ?it/s]\u001b[A\n",
            "BLEU: 0.902, ED: 5.47e-02, ACC: 0.702:   0% 0/420 [00:01<?, ?it/s]\n",
            "Loss: 0.2280:  25% 3999/16298 [16:24<58:18,  3.52it/s]\n",
            "  0% 0/420 [00:00<?, ?it/s]\u001b[A\n",
            "BLEU: 0.860, ED: 8.66e-02, ACC: 0.462:   0% 0/420 [00:01<?, ?it/s]\n",
            "Loss: 0.0922:  37% 5999/16298 [22:49<1:27:57,  1.95it/s]\n",
            "  0% 0/420 [00:00<?, ?it/s]\u001b[A\n",
            "BLEU: 0.570, ED: 7.01e-01, ACC: 0.285:   0% 0/420 [00:28<?, ?it/s]\n",
            "Loss: 0.0792:  49% 7999/16298 [29:24<30:09,  4.59it/s]\n",
            "  0% 0/420 [00:00<?, ?it/s]\u001b[A\n",
            "BLEU: 0.826, ED: 1.48e-01, ACC: 0.535:   0% 0/420 [00:01<?, ?it/s]\n",
            "Loss: 0.1104:  61% 9999/16298 [35:52<22:06,  4.75it/s]\n",
            "  0% 0/420 [00:00<?, ?it/s]\u001b[A\n",
            "BLEU: 0.867, ED: 1.05e-01, ACC: 0.438:   0% 0/420 [00:03<?, ?it/s]\n",
            "Loss: 0.1078:  74% 11999/16298 [42:31<13:19,  5.38it/s]\n",
            "  0% 0/420 [00:00<?, ?it/s]\u001b[A\n",
            "BLEU: 0.839, ED: 1.43e-01, ACC: 0.466:   0% 0/420 [00:01<?, ?it/s]\n",
            "Loss: 0.1538:  86% 13999/16298 [49:29<07:40,  4.99it/s]\n",
            "  0% 0/420 [00:00<?, ?it/s]\u001b[A\n",
            "BLEU: 0.830, ED: 1.31e-01, ACC: 0.664:   0% 0/420 [00:00<?, ?it/s]\n",
            "Loss: 0.1062:  98% 15999/16298 [56:28<01:01,  4.85it/s]\n",
            "  0% 0/420 [00:00<?, ?it/s]\u001b[A\n",
            "BLEU: 0.858, ED: 9.82e-02, ACC: 0.346:   0% 0/420 [00:06<?, ?it/s]\n",
            "Loss: 0.0232: 100% 16227/16298 [57:28<00:15,  4.71it/s]\n",
            "Loss: 0.0644:  10% 1701/16298 [05:29<46:11,  5.27it/s]\n",
            "  0% 0/420 [00:00<?, ?it/s]\u001b[A\n",
            "BLEU: 0.879, ED: 1.46e-01, ACC: 0.429:   0% 0/420 [00:02<?, ?it/s]\u001b[A\n",
            "BLEU: 0.879, ED: 1.46e-01, ACC: 0.429:   0% 1/420 [00:02<18:35,  2.66s/it]\u001b[A\n",
            "BLEU: 0.879, ED: 1.24e-01, ACC: 0.595:   0% 1/420 [00:03<18:35,  2.66s/it]\u001b[A\n",
            "BLEU: 0.879, ED: 1.24e-01, ACC: 0.595:   0% 2/420 [00:03<10:40,  1.53s/it]\u001b[A\n",
            "BLEU: 0.875, ED: 1.22e-01, ACC: 0.607:   0% 2/420 [00:05<19:27,  2.79s/it]\n",
            "Loss: 0.1123:  23% 3701/16298 [12:02<41:44,  5.03it/s]\n",
            "  0% 0/420 [00:00<?, ?it/s]\u001b[A\n",
            "BLEU: 0.473, ED: 6.07e-01, ACC: 0.124:   0% 0/420 [00:03<?, ?it/s]\u001b[A\n",
            "BLEU: 0.473, ED: 6.07e-01, ACC: 0.124:   0% 1/420 [00:03<27:08,  3.89s/it]\u001b[A\n",
            "BLEU: 0.683, ED: 1.10e-01, ACC: 0.444:   0% 1/420 [00:05<27:08,  3.89s/it]\u001b[A\n",
            "BLEU: 0.683, ED: 1.10e-01, ACC: 0.444:   0% 2/420 [00:05<16:07,  2.31s/it]\u001b[A\n",
            "BLEU: 0.744, ED: 1.03e-01, ACC: 0.462:   0% 2/420 [00:06<22:14,  3.19s/it]\n",
            "Loss: 0.1645:  35% 5701/16298 [18:49<1:54:26,  1.54it/s]\n",
            "  0% 0/420 [00:00<?, ?it/s]\u001b[A\n",
            "BLEU: 0.730, ED: 2.88e-01, ACC: 0.383:   0% 0/420 [00:30<?, ?it/s]\u001b[A\n",
            "BLEU: 0.730, ED: 2.88e-01, ACC: 0.383:   0% 1/420 [00:30<3:35:53, 30.92s/it]\u001b[A\n",
            "BLEU: 0.810, ED: 1.89e-01, ACC: 0.450:   0% 1/420 [00:34<3:35:53, 30.92s/it]\u001b[A\n",
            "BLEU: 0.810, ED: 1.89e-01, ACC: 0.450:   0% 2/420 [00:34<1:44:54, 15.06s/it]\u001b[A\n",
            "BLEU: 0.816, ED: 1.58e-01, ACC: 0.545:   0% 2/420 [00:35<2:02:49, 17.63s/it]\n",
            "Loss: 0.0785:  47% 7701/16298 [25:53<23:29,  6.10it/s]\n",
            "  0% 0/420 [00:00<?, ?it/s]\u001b[A\n",
            "BLEU: 0.873, ED: 8.74e-02, ACC: 0.392:   0% 0/420 [00:03<?, ?it/s]\u001b[A\n",
            "BLEU: 0.873, ED: 8.74e-02, ACC: 0.392:   0% 1/420 [00:03<23:07,  3.31s/it]\u001b[A\n",
            "BLEU: 0.904, ED: 9.37e-02, ACC: 0.369:   0% 1/420 [00:06<23:07,  3.31s/it]\u001b[A\n",
            "BLEU: 0.904, ED: 9.37e-02, ACC: 0.369:   0% 2/420 [00:06<22:00,  3.16s/it]\u001b[A\n",
            "BLEU: 0.830, ED: 3.10e-01, ACC: 0.374:   0% 2/420 [00:36<2:06:33, 18.17s/it]\n",
            "Loss: 0.1028:  60% 9701/16298 [33:08<23:00,  4.78it/s]\n",
            "  0% 0/420 [00:00<?, ?it/s]\u001b[A\n",
            "BLEU: 0.746, ED: 3.38e-01, ACC: 0.491:   0% 0/420 [00:24<?, ?it/s]\u001b[A\n",
            "BLEU: 0.746, ED: 3.38e-01, ACC: 0.491:   0% 1/420 [00:24<2:47:59, 24.06s/it]\u001b[A\n",
            "BLEU: 0.806, ED: 2.20e-01, ACC: 0.518:   0% 1/420 [00:24<2:47:59, 24.06s/it]\u001b[A\n",
            "BLEU: 0.806, ED: 2.20e-01, ACC: 0.518:   0% 2/420 [00:24<1:11:55, 10.32s/it]\u001b[A\n",
            "BLEU: 0.839, ED: 1.72e-01, ACC: 0.550:   0% 2/420 [00:25<1:29:21, 12.83s/it]\n",
            "Loss: 0.0518:  72% 11701/16298 [40:26<13:49,  5.54it/s]\n",
            "  0% 0/420 [00:00<?, ?it/s]\u001b[A\n",
            "BLEU: 0.941, ED: 5.83e-02, ACC: 0.773:   0% 0/420 [00:00<?, ?it/s]\u001b[A\n",
            "BLEU: 0.941, ED: 5.83e-02, ACC: 0.773:   0% 1/420 [00:00<04:55,  1.42it/s]\u001b[A\n",
            "BLEU: 0.850, ED: 2.12e-01, ACC: 0.522:   0% 1/420 [00:05<04:55,  1.42it/s]\u001b[A\n",
            "BLEU: 0.850, ED: 2.12e-01, ACC: 0.522:   0% 2/420 [00:05<22:23,  3.21s/it]\u001b[A\n",
            "BLEU: 0.880, ED: 1.60e-01, ACC: 0.602:   0% 2/420 [00:07<24:41,  3.54s/it]\n",
            "Loss: 0.0806:  84% 13701/16298 [47:08<08:05,  5.35it/s]\n",
            "  0% 0/420 [00:00<?, ?it/s]\u001b[A\n",
            "BLEU: 0.943, ED: 2.42e-02, ACC: 0.667:   0% 0/420 [00:01<?, ?it/s]\u001b[A\n",
            "BLEU: 0.943, ED: 2.42e-02, ACC: 0.667:   0% 1/420 [00:01<10:18,  1.48s/it]\u001b[A\n",
            "BLEU: 0.912, ED: 7.74e-02, ACC: 0.644:   0% 1/420 [00:03<10:18,  1.48s/it]\u001b[A\n",
            "BLEU: 0.912, ED: 7.74e-02, ACC: 0.644:   0% 2/420 [00:03<11:54,  1.71s/it]\u001b[A\n",
            "BLEU: 0.899, ED: 9.22e-02, ACC: 0.568:   0% 2/420 [00:28<1:39:46, 14.32s/it]\n",
            "Loss: 0.1080:  96% 15701/16298 [54:31<02:12,  4.51it/s]\n",
            "  0% 0/420 [00:00<?, ?it/s]\u001b[A\n",
            "BLEU: 0.890, ED: 8.27e-02, ACC: 0.770:   0% 0/420 [00:01<?, ?it/s]\u001b[A\n",
            "BLEU: 0.890, ED: 8.27e-02, ACC: 0.770:   0% 1/420 [00:01<09:53,  1.42s/it]\u001b[A\n",
            "BLEU: 0.863, ED: 8.38e-02, ACC: 0.602:   0% 1/420 [00:04<09:53,  1.42s/it]\u001b[A\n",
            "BLEU: 0.863, ED: 8.38e-02, ACC: 0.602:   0% 2/420 [00:04<15:49,  2.27s/it]\u001b[A\n",
            "BLEU: 0.876, ED: 8.39e-02, ACC: 0.610:   0% 2/420 [00:05<18:50,  2.70s/it]\n",
            "Loss: 0.0830: 100% 16229/16298 [56:22<00:14,  4.80it/s]\n",
            "Loss: 0.0771:   9% 1403/16298 [04:48<49:48,  4.98it/s]\n",
            "  0% 0/420 [00:00<?, ?it/s]\u001b[A\n",
            "BLEU: 0.861, ED: 8.65e-02, ACC: 0.759:   0% 0/420 [00:00<?, ?it/s]\u001b[A\n",
            "BLEU: 0.861, ED: 8.65e-02, ACC: 0.759:   0% 1/420 [00:00<02:50,  2.46it/s]\u001b[A\n",
            "BLEU: 0.880, ED: 7.61e-02, ACC: 0.630:   0% 1/420 [00:01<02:50,  2.46it/s]\u001b[A\n",
            "BLEU: 0.880, ED: 7.61e-02, ACC: 0.630:   0% 2/420 [00:01<05:37,  1.24it/s]\u001b[A\n",
            "BLEU: 0.894, ED: 6.53e-02, ACC: 0.593:   0% 2/420 [00:04<05:37,  1.24it/s]\u001b[A\n",
            "BLEU: 0.894, ED: 6.53e-02, ACC: 0.593:   1% 3/420 [00:04<11:40,  1.68s/it]\u001b[A\n",
            "BLEU: 0.885, ED: 7.34e-02, ACC: 0.563:   1% 3/420 [00:07<11:40,  1.68s/it]\u001b[A\n",
            "BLEU: 0.885, ED: 7.34e-02, ACC: 0.563:   1% 4/420 [00:07<16:24,  2.37s/it]\u001b[A\n",
            "BLEU: 0.874, ED: 8.43e-02, ACC: 0.541:   1% 4/420 [00:11<19:35,  2.82s/it]\n",
            "Loss: 0.0899:  21% 3403/16298 [11:44<40:10,  5.35it/s]\n",
            "  0% 0/420 [00:00<?, ?it/s]\u001b[A\n",
            "BLEU: 0.816, ED: 1.40e-01, ACC: 0.673:   0% 0/420 [00:00<?, ?it/s]\u001b[A\n",
            "BLEU: 0.816, ED: 1.40e-01, ACC: 0.673:   0% 1/420 [00:00<03:52,  1.80it/s]\u001b[A\n",
            "BLEU: 0.842, ED: 1.24e-01, ACC: 0.656:   0% 1/420 [00:02<03:52,  1.80it/s]\u001b[A\n",
            "BLEU: 0.842, ED: 1.24e-01, ACC: 0.656:   0% 2/420 [00:02<11:21,  1.63s/it]\u001b[A\n",
            "BLEU: 0.871, ED: 1.07e-01, ACC: 0.670:   0% 2/420 [00:04<11:21,  1.63s/it]\u001b[A\n",
            "BLEU: 0.871, ED: 1.07e-01, ACC: 0.670:   1% 3/420 [00:04<09:56,  1.43s/it]\u001b[A\n",
            "BLEU: 0.882, ED: 9.93e-02, ACC: 0.637:   1% 3/420 [00:05<09:56,  1.43s/it]\u001b[A\n",
            "BLEU: 0.882, ED: 9.93e-02, ACC: 0.637:   1% 4/420 [00:05<10:07,  1.46s/it]\u001b[A\n",
            "BLEU: 0.886, ED: 9.44e-02, ACC: 0.615:   1% 4/420 [00:09<16:21,  2.36s/it]\n",
            "Loss: 0.0580:  33% 5403/16298 [18:34<35:30,  5.11it/s]\n",
            "  0% 0/420 [00:00<?, ?it/s]\u001b[A\n",
            "BLEU: 0.866, ED: 9.43e-02, ACC: 0.374:   0% 0/420 [00:03<?, ?it/s]\u001b[A\n",
            "BLEU: 0.866, ED: 9.43e-02, ACC: 0.374:   0% 1/420 [00:03<22:32,  3.23s/it]\u001b[A\n",
            "BLEU: 0.870, ED: 8.27e-02, ACC: 0.511:   0% 1/420 [00:05<22:32,  3.23s/it]\u001b[A\n",
            "BLEU: 0.870, ED: 8.27e-02, ACC: 0.511:   0% 2/420 [00:05<18:23,  2.64s/it]\u001b[A\n",
            "BLEU: 0.885, ED: 7.11e-02, ACC: 0.635:   0% 2/420 [00:05<18:23,  2.64s/it]\u001b[A\n",
            "BLEU: 0.885, ED: 7.11e-02, ACC: 0.635:   1% 3/420 [00:05<10:48,  1.56s/it]\u001b[A\n",
            "BLEU: 0.891, ED: 6.90e-02, ACC: 0.700:   1% 3/420 [00:06<10:48,  1.56s/it]\u001b[A\n",
            "BLEU: 0.891, ED: 6.90e-02, ACC: 0.700:   1% 4/420 [00:06<07:40,  1.11s/it]\u001b[A\n",
            "BLEU: 0.901, ED: 6.24e-02, ACC: 0.721:   1% 4/420 [00:07<12:40,  1.83s/it]\n",
            "Loss: 0.0383:  45% 7403/16298 [25:22<33:20,  4.45it/s]\n",
            "  0% 0/420 [00:00<?, ?it/s]\u001b[A\n",
            "BLEU: 0.773, ED: 1.39e-01, ACC: 0.489:   0% 0/420 [00:10<?, ?it/s]\u001b[A\n",
            "BLEU: 0.773, ED: 1.39e-01, ACC: 0.489:   0% 1/420 [00:10<1:16:45, 10.99s/it]\u001b[A\n",
            "BLEU: 0.828, ED: 1.14e-01, ACC: 0.468:   0% 1/420 [00:18<1:16:45, 10.99s/it]\u001b[A\n",
            "BLEU: 0.828, ED: 1.14e-01, ACC: 0.468:   0% 2/420 [00:18<1:02:41,  9.00s/it]\u001b[A\n",
            "BLEU: 0.840, ED: 1.11e-01, ACC: 0.432:   0% 2/420 [00:26<1:02:41,  9.00s/it]\u001b[A\n",
            "BLEU: 0.840, ED: 1.11e-01, ACC: 0.432:   1% 3/420 [00:26<58:49,  8.47s/it]  \u001b[A\n",
            "BLEU: 0.833, ED: 1.18e-01, ACC: 0.431:   1% 3/420 [00:27<58:49,  8.47s/it]\u001b[A\n",
            "BLEU: 0.833, ED: 1.18e-01, ACC: 0.431:   1% 4/420 [00:27<39:45,  5.73s/it]\u001b[A\n",
            "BLEU: 0.856, ED: 1.05e-01, ACC: 0.529:   1% 4/420 [00:28<49:19,  7.11s/it]\n",
            "Loss: 0.0943:  58% 9403/16298 [32:36<25:52,  4.44it/s]\n",
            "  0% 0/420 [00:00<?, ?it/s]\u001b[A\n",
            "BLEU: 0.935, ED: 3.40e-02, ACC: 0.781:   0% 0/420 [00:01<?, ?it/s]\u001b[A\n",
            "BLEU: 0.935, ED: 3.40e-02, ACC: 0.781:   0% 1/420 [00:01<10:31,  1.51s/it]\u001b[A\n",
            "BLEU: 0.903, ED: 6.85e-02, ACC: 0.615:   0% 1/420 [00:03<10:31,  1.51s/it]\u001b[A\n",
            "BLEU: 0.903, ED: 6.85e-02, ACC: 0.615:   0% 2/420 [00:03<12:38,  1.82s/it]\u001b[A\n",
            "BLEU: 0.904, ED: 6.97e-02, ACC: 0.607:   0% 2/420 [00:04<12:38,  1.82s/it]\u001b[A\n",
            "BLEU: 0.904, ED: 6.97e-02, ACC: 0.607:   1% 3/420 [00:04<09:24,  1.35s/it]\u001b[A\n",
            "BLEU: 0.907, ED: 6.42e-02, ACC: 0.593:   1% 3/420 [00:07<09:24,  1.35s/it]\u001b[A\n",
            "BLEU: 0.907, ED: 6.42e-02, ACC: 0.593:   1% 4/420 [00:07<13:28,  1.94s/it]\u001b[A\n",
            "BLEU: 0.898, ED: 7.46e-02, ACC: 0.560:   1% 4/420 [00:10<17:39,  2.55s/it]\n",
            "Loss: 0.0205:  70% 11403/16298 [39:46<19:20,  4.22it/s]\n",
            "  0% 0/420 [00:00<?, ?it/s]\u001b[A\n",
            "BLEU: 0.882, ED: 7.03e-02, ACC: 0.707:   0% 0/420 [00:01<?, ?it/s]\u001b[A\n",
            "BLEU: 0.882, ED: 7.03e-02, ACC: 0.707:   0% 1/420 [00:01<09:19,  1.34s/it]\u001b[A\n",
            "BLEU: 0.859, ED: 9.00e-02, ACC: 0.572:   0% 1/420 [00:04<09:19,  1.34s/it]\u001b[A\n",
            "BLEU: 0.859, ED: 9.00e-02, ACC: 0.572:   0% 2/420 [00:04<17:38,  2.53s/it]\u001b[A\n",
            "BLEU: 0.858, ED: 9.04e-02, ACC: 0.553:   0% 2/420 [00:05<17:38,  2.53s/it]\u001b[A\n",
            "BLEU: 0.858, ED: 9.04e-02, ACC: 0.553:   1% 3/420 [00:05<12:59,  1.87s/it]\u001b[A\n",
            "BLEU: 0.861, ED: 9.08e-02, ACC: 0.554:   1% 3/420 [00:07<12:59,  1.87s/it]\u001b[A\n",
            "BLEU: 0.861, ED: 9.08e-02, ACC: 0.554:   1% 4/420 [00:07<13:00,  1.88s/it]\u001b[A\n",
            "BLEU: 0.861, ED: 9.14e-02, ACC: 0.605:   1% 4/420 [00:08<13:54,  2.01s/it]\n",
            "Loss: 0.0220:  82% 13403/16298 [46:43<09:05,  5.31it/s]\n",
            "  0% 0/420 [00:00<?, ?it/s]\u001b[A\n",
            "BLEU: 0.886, ED: 1.04e-01, ACC: 0.655:   0% 0/420 [00:01<?, ?it/s]\u001b[A\n",
            "BLEU: 0.886, ED: 1.04e-01, ACC: 0.655:   0% 1/420 [00:01<07:27,  1.07s/it]\u001b[A\n",
            "BLEU: 0.896, ED: 1.07e-01, ACC: 0.512:   0% 1/420 [00:10<07:27,  1.07s/it]\u001b[A\n",
            "BLEU: 0.896, ED: 1.07e-01, ACC: 0.512:   0% 2/420 [00:10<42:13,  6.06s/it]\u001b[A\n",
            "BLEU: 0.900, ED: 9.01e-02, ACC: 0.556:   0% 2/420 [00:13<42:13,  6.06s/it]\u001b[A\n",
            "BLEU: 0.900, ED: 9.01e-02, ACC: 0.556:   1% 3/420 [00:13<30:36,  4.40s/it]\u001b[A\n",
            "BLEU: 0.901, ED: 9.05e-02, ACC: 0.559:   1% 3/420 [00:14<30:36,  4.40s/it]\u001b[A\n",
            "BLEU: 0.901, ED: 9.05e-02, ACC: 0.559:   1% 4/420 [00:14<23:38,  3.41s/it]\u001b[A\n",
            "BLEU: 0.885, ED: 9.44e-02, ACC: 0.533:   1% 4/420 [00:19<32:59,  4.76s/it]\n",
            "Loss: 0.1325:  95% 15403/16298 [53:50<02:49,  5.30it/s]\n",
            "  0% 0/420 [00:00<?, ?it/s]\u001b[A\n",
            "BLEU: 0.614, ED: 2.02e+00, ACC: 0.338:   0% 0/420 [00:29<?, ?it/s]\u001b[A\n",
            "BLEU: 0.614, ED: 2.02e+00, ACC: 0.338:   0% 1/420 [00:29<3:22:49, 29.04s/it]\u001b[A\n",
            "BLEU: 0.694, ED: 1.11e+00, ACC: 0.500:   0% 1/420 [00:29<3:22:49, 29.04s/it]\u001b[A\n",
            "BLEU: 0.694, ED: 1.11e+00, ACC: 0.500:   0% 2/420 [00:29<1:24:21, 12.11s/it]\u001b[A\n",
            "BLEU: 0.679, ED: 1.09e+00, ACC: 0.362:   0% 2/420 [00:31<1:24:21, 12.11s/it]\u001b[A\n",
            "BLEU: 0.679, ED: 1.09e+00, ACC: 0.362:   1% 3/420 [00:31<52:48,  7.60s/it]  \u001b[A\n",
            "BLEU: 0.724, ED: 7.63e-01, ACC: 0.428:   1% 3/420 [00:34<52:48,  7.60s/it]\u001b[A\n",
            "BLEU: 0.724, ED: 7.63e-01, ACC: 0.428:   1% 4/420 [00:34<39:57,  5.76s/it]\u001b[A\n",
            "BLEU: 0.747, ED: 6.81e-01, ACC: 0.448:   1% 4/420 [00:36<1:03:35,  9.17s/it]\n",
            "Loss: 0.0322: 100% 16233/16298 [57:14<00:13,  4.73it/s]\n",
            "Loss: 0.0967:   7% 1105/16298 [03:43<49:52,  5.08it/s]\n",
            "  0% 0/420 [00:00<?, ?it/s]\u001b[A\n",
            "BLEU: 0.885, ED: 1.04e-01, ACC: 0.622:   0% 0/420 [00:04<?, ?it/s]\u001b[A\n",
            "BLEU: 0.885, ED: 1.04e-01, ACC: 0.622:   0% 1/420 [00:04<34:03,  4.88s/it]\u001b[A\n",
            "BLEU: 0.891, ED: 9.35e-02, ACC: 0.608:   0% 1/420 [00:06<34:03,  4.88s/it]\u001b[A\n",
            "BLEU: 0.891, ED: 9.35e-02, ACC: 0.608:   0% 2/420 [00:06<19:37,  2.82s/it]\u001b[A\n",
            "BLEU: 0.890, ED: 9.24e-02, ACC: 0.528:   0% 2/420 [00:07<19:37,  2.82s/it]\u001b[A\n",
            "BLEU: 0.890, ED: 9.24e-02, ACC: 0.528:   1% 3/420 [00:07<14:53,  2.14s/it]\u001b[A\n",
            "BLEU: 0.888, ED: 9.08e-02, ACC: 0.511:   1% 3/420 [00:11<14:53,  2.14s/it]\u001b[A\n",
            "BLEU: 0.888, ED: 9.08e-02, ACC: 0.511:   1% 4/420 [00:11<19:19,  2.79s/it]\u001b[A\n",
            "BLEU: 0.888, ED: 9.34e-02, ACC: 0.527:   1% 4/420 [00:12<19:19,  2.79s/it]\u001b[A\n",
            "BLEU: 0.888, ED: 9.34e-02, ACC: 0.527:   1% 5/420 [00:12<15:51,  2.29s/it]\u001b[A\n",
            "BLEU: 0.891, ED: 8.29e-02, ACC: 0.558:   1% 5/420 [00:13<15:51,  2.29s/it]\u001b[A\n",
            "BLEU: 0.891, ED: 8.29e-02, ACC: 0.558:   1% 6/420 [00:13<12:53,  1.87s/it]\u001b[A\n",
            "BLEU: 0.890, ED: 8.88e-02, ACC: 0.524:   1% 6/420 [00:22<26:26,  3.83s/it]\n",
            "Loss: 0.0656:  19% 3105/16298 [10:58<41:58,  5.24it/s]\n",
            "  0% 0/420 [00:00<?, ?it/s]\u001b[A\n",
            "BLEU: 0.923, ED: 5.38e-02, ACC: 0.652:   0% 0/420 [00:00<?, ?it/s]\u001b[A\n",
            "BLEU: 0.923, ED: 5.38e-02, ACC: 0.652:   0% 1/420 [00:00<06:35,  1.06it/s]\u001b[A\n",
            "BLEU: 0.892, ED: 6.76e-02, ACC: 0.667:   0% 1/420 [00:01<06:35,  1.06it/s]\u001b[A\n",
            "BLEU: 0.892, ED: 6.76e-02, ACC: 0.667:   0% 2/420 [00:01<05:47,  1.20it/s]\u001b[A\n",
            "BLEU: 0.880, ED: 7.96e-02, ACC: 0.707:   0% 2/420 [00:02<05:47,  1.20it/s]\u001b[A\n",
            "BLEU: 0.880, ED: 7.96e-02, ACC: 0.707:   1% 3/420 [00:02<04:25,  1.57it/s]\u001b[A\n",
            "BLEU: 0.788, ED: 8.74e-02, ACC: 0.556:   1% 3/420 [00:05<04:25,  1.57it/s]\u001b[A\n",
            "BLEU: 0.788, ED: 8.74e-02, ACC: 0.556:   1% 4/420 [00:05<11:24,  1.65s/it]\u001b[A\n",
            "BLEU: 0.799, ED: 1.02e-01, ACC: 0.567:   1% 4/420 [00:06<11:24,  1.65s/it]\u001b[A\n",
            "BLEU: 0.799, ED: 1.02e-01, ACC: 0.567:   1% 5/420 [00:06<10:08,  1.47s/it]\u001b[A\n",
            "BLEU: 0.817, ED: 9.72e-02, ACC: 0.555:   1% 5/420 [00:07<10:08,  1.47s/it]\u001b[A\n",
            "BLEU: 0.817, ED: 9.72e-02, ACC: 0.555:   1% 6/420 [00:07<09:33,  1.38s/it]\u001b[A\n",
            "BLEU: 0.831, ED: 8.99e-02, ACC: 0.573:   1% 6/420 [00:08<10:17,  1.49s/it]\n",
            "Loss: 0.0544:  31% 5105/16298 [17:57<33:48,  5.52it/s]\n",
            "  0% 0/420 [00:00<?, ?it/s]\u001b[A\n",
            "BLEU: 0.708, ED: 1.39e+00, ACC: 0.508:   0% 0/420 [00:01<?, ?it/s]\u001b[A\n",
            "BLEU: 0.708, ED: 1.39e+00, ACC: 0.508:   0% 1/420 [00:01<11:50,  1.70s/it]\u001b[A\n",
            "BLEU: 0.795, ED: 7.38e-01, ACC: 0.444:   0% 1/420 [00:06<11:50,  1.70s/it]\u001b[A\n",
            "BLEU: 0.795, ED: 7.38e-01, ACC: 0.444:   0% 2/420 [00:06<24:26,  3.51s/it]\u001b[A\n",
            "BLEU: 0.761, ED: 6.35e-01, ACC: 0.421:   0% 2/420 [00:36<24:26,  3.51s/it]\u001b[A\n",
            "BLEU: 0.761, ED: 6.35e-01, ACC: 0.421:   1% 3/420 [00:36<1:49:05, 15.70s/it]\u001b[A\n",
            "BLEU: 0.791, ED: 5.00e-01, ACC: 0.438:   1% 3/420 [00:39<1:49:05, 15.70s/it]\u001b[A\n",
            "BLEU: 0.791, ED: 5.00e-01, ACC: 0.438:   1% 4/420 [00:39<1:14:56, 10.81s/it]\u001b[A\n",
            "BLEU: 0.809, ED: 4.18e-01, ACC: 0.510:   1% 4/420 [00:40<1:14:56, 10.81s/it]\u001b[A\n",
            "BLEU: 0.809, ED: 4.18e-01, ACC: 0.510:   1% 5/420 [00:40<48:34,  7.02s/it]  \u001b[A\n",
            "BLEU: 0.796, ED: 3.92e-01, ACC: 0.538:   1% 5/420 [00:42<48:34,  7.02s/it]\u001b[A\n",
            "BLEU: 0.796, ED: 3.92e-01, ACC: 0.538:   1% 6/420 [00:42<36:09,  5.24s/it]\u001b[A\n",
            "BLEU: 0.807, ED: 3.84e-01, ACC: 0.524:   1% 6/420 [00:43<50:26,  7.31s/it]\n",
            "Loss: 0.1782:  44% 7105/16298 [25:30<30:19,  5.05it/s]\n",
            "  0% 0/420 [00:00<?, ?it/s]\u001b[A\n",
            "BLEU: 0.929, ED: 4.51e-02, ACC: 0.667:   0% 0/420 [00:01<?, ?it/s]\u001b[A\n",
            "BLEU: 0.929, ED: 4.51e-02, ACC: 0.667:   0% 1/420 [00:01<08:32,  1.22s/it]\u001b[A\n",
            "BLEU: 0.953, ED: 3.61e-02, ACC: 0.703:   0% 1/420 [00:02<08:32,  1.22s/it]\u001b[A\n",
            "BLEU: 0.953, ED: 3.61e-02, ACC: 0.703:   0% 2/420 [00:02<09:26,  1.36s/it]\u001b[A\n",
            "BLEU: 0.938, ED: 4.78e-02, ACC: 0.659:   0% 2/420 [00:03<09:26,  1.36s/it]\u001b[A\n",
            "BLEU: 0.938, ED: 4.78e-02, ACC: 0.659:   1% 3/420 [00:03<09:00,  1.30s/it]\u001b[A\n",
            "BLEU: 0.908, ED: 1.55e-01, ACC: 0.608:   1% 3/420 [00:09<09:00,  1.30s/it]\u001b[A\n",
            "BLEU: 0.908, ED: 1.55e-01, ACC: 0.608:   1% 4/420 [00:09<21:58,  3.17s/it]\u001b[A\n",
            "BLEU: 0.907, ED: 1.48e-01, ACC: 0.619:   1% 4/420 [00:11<21:58,  3.17s/it]\u001b[A\n",
            "BLEU: 0.907, ED: 1.48e-01, ACC: 0.619:   1% 5/420 [00:11<17:00,  2.46s/it]\u001b[A\n",
            "BLEU: 0.909, ED: 1.32e-01, ACC: 0.615:   1% 5/420 [00:15<17:00,  2.46s/it]\u001b[A\n",
            "BLEU: 0.909, ED: 1.32e-01, ACC: 0.615:   1% 6/420 [00:15<20:30,  2.97s/it]\u001b[A\n",
            "BLEU: 0.880, ED: 1.35e-01, ACC: 0.555:   1% 6/420 [00:21<24:41,  3.58s/it]\n",
            "Loss: 0.0338:  56% 9105/16298 [32:46<32:20,  3.71it/s]\n",
            "  0% 0/420 [00:00<?, ?it/s]\u001b[A\n",
            "BLEU: 0.916, ED: 5.38e-02, ACC: 0.616:   0% 0/420 [00:02<?, ?it/s]\u001b[A\n",
            "BLEU: 0.916, ED: 5.38e-02, ACC: 0.616:   0% 1/420 [00:02<18:14,  2.61s/it]\u001b[A\n",
            "BLEU: 0.808, ED: 1.97e-01, ACC: 0.512:   0% 1/420 [00:12<18:14,  2.61s/it]\u001b[A\n",
            "BLEU: 0.808, ED: 1.97e-01, ACC: 0.512:   0% 2/420 [00:12<49:31,  7.11s/it]\u001b[A\n",
            "BLEU: 0.784, ED: 2.00e-01, ACC: 0.424:   0% 2/420 [00:17<49:31,  7.11s/it]\u001b[A\n",
            "BLEU: 0.784, ED: 2.00e-01, ACC: 0.424:   1% 3/420 [00:17<42:39,  6.14s/it]\u001b[A\n",
            "BLEU: 0.808, ED: 2.16e-01, ACC: 0.472:   1% 3/420 [00:22<42:39,  6.14s/it]\u001b[A\n",
            "BLEU: 0.808, ED: 2.16e-01, ACC: 0.472:   1% 4/420 [00:22<37:36,  5.42s/it]\u001b[A\n",
            "BLEU: 0.831, ED: 1.82e-01, ACC: 0.537:   1% 4/420 [00:24<37:36,  5.42s/it]\u001b[A\n",
            "BLEU: 0.831, ED: 1.82e-01, ACC: 0.537:   1% 5/420 [00:24<30:29,  4.41s/it]\u001b[A\n",
            "BLEU: 0.843, ED: 1.65e-01, ACC: 0.537:   1% 5/420 [00:26<30:29,  4.41s/it]\u001b[A\n",
            "BLEU: 0.843, ED: 1.65e-01, ACC: 0.537:   1% 6/420 [00:26<25:00,  3.62s/it]\u001b[A\n",
            "BLEU: 0.854, ED: 1.46e-01, ACC: 0.537:   1% 6/420 [00:32<37:03,  5.37s/it]\n",
            "Loss: 0.0683:  67% 10845/16298 [39:16<16:39,  5.46it/s]"
          ]
        }
      ],
      "source": [
        "!python -m pix2tex.train --config colab.yaml"
      ]
    },
    {
      "cell_type": "code",
      "execution_count": null,
      "metadata": {
        "id": "g3DU9KxubWgq"
      },
      "outputs": [],
      "source": [
        "from pix2tex.cli import LatexOCR\n",
        "\n",
        "model = LatexOCR(weights_path='weights.pth')\n",
        "\n",
        "# Predict from an image\n",
        "result = model('path_to_image.png')\n",
        "print(\"Predicted LaTeX:\", result)"
      ]
    }
  ],
  "metadata": {
    "accelerator": "TPU",
    "colab": {
      "gpuType": "V28",
      "provenance": []
    },
    "kernelspec": {
      "display_name": "Python 3",
      "name": "python3"
    },
    "language_info": {
      "name": "python"
    }
  },
  "nbformat": 4,
  "nbformat_minor": 0
}
