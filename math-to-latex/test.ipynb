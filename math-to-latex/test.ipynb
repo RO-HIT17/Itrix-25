{
 "cells": [
  {
   "cell_type": "code",
   "execution_count": 9,
   "metadata": {},
   "outputs": [
    {
     "name": "stdout",
     "output_type": "stream",
     "text": [
      "\\bigotimes_{\\bf{C}}\\sum_{\\bf{C}}\\ \\ =\\bigoplus_{\\bf{C}}\\sum_{\\Lambda_{\\Lambda_{\\Lambda}}\\ n_{\\Lambda{\\Lambda}}}\\ n_{\\Lambda{\\Lambda}}\n"
     ]
    }
   ],
   "source": [
    "from PIL import Image\n",
    "from pix2tex.cli import LatexOCR\n",
    "\n",
    "img = Image.open('C:\\\\Rohit\\\\Projects\\\\Itrix 25\\\\math-to-latex\\\\test_images\\\\H4.png')\n",
    "model = LatexOCR()\n",
    "\n",
    "print(model(img))\n",
    "cleaned_latex = model(img)"
   ]
  },
  {
   "cell_type": "code",
   "execution_count": 10,
   "metadata": {},
   "outputs": [
    {
     "data": {
      "text/latex": [
       "$\\displaystyle \\bigotimes_{\\bf{C}}\\sum_{\\bf{G}}\\ \\ne\\ \\left(\\begin{array}{c c}{{\\phantom{G}}}&{{}}\\\\ {{\\sim\\sqrt{\\{{array}{m}{\\1{\\sqrt{\\dots}}}}\\end{array}}}\\end{array}\\right)$"
      ],
      "text/plain": [
       "<IPython.core.display.Math object>"
      ]
     },
     "metadata": {},
     "output_type": "display_data"
    }
   ],
   "source": [
    "from IPython.display import display, Math\n",
    "display(Math(cleaned_latex))"
   ]
  }
 ],
 "metadata": {
  "kernelspec": {
   "display_name": "Python 3",
   "language": "python",
   "name": "python3"
  },
  "language_info": {
   "codemirror_mode": {
    "name": "ipython",
    "version": 3
   },
   "file_extension": ".py",
   "mimetype": "text/x-python",
   "name": "python",
   "nbconvert_exporter": "python",
   "pygments_lexer": "ipython3",
   "version": "3.11.4"
  }
 },
 "nbformat": 4,
 "nbformat_minor": 2
}
