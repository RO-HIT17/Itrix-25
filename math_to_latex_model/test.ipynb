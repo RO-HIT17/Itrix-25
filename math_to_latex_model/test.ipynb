{
 "cells": [
  {
   "cell_type": "code",
   "execution_count": 11,
   "metadata": {},
   "outputs": [
    {
     "name": "stderr",
     "output_type": "stream",
     "text": [
      "FIND: Invalid switch\n"
     ]
    },
    {
     "name": "stderr",
     "output_type": "stream",
     "text": [
      "'cp' is not recognized as an internal or external command,\n",
      "operable program or batch file.\n"
     ]
    },
    {
     "name": "stdout",
     "output_type": "stream",
     "text": [
      "a^{2}+b^{2}=c^{2}\n"
     ]
    }
   ],
   "source": [
    "from PIL import Image\n",
    "from pix2tex.cli import LatexOCR\n",
    "\n",
    "!find /root/.cache -type f -name \"*.pth\"\n",
    "!cp /model/mixed_e03_step16298.pth /root/.cache/uv/archive-v0/RKZKlqiMrM89Kt-w7BgsI/distutils-precedence.pth\n",
    "\n",
    "img = Image.open('C:\\\\Rohit\\Projects\\\\Itrix 25\\\\math-to-latex\\\\test_images\\\\6.png')\n",
    "model = LatexOCR()\n",
    "\n",
    "print(model(img))\n",
    "cleaned_latex = model(img)"
   ]
  },
  {
   "cell_type": "code",
   "execution_count": 10,
   "metadata": {},
   "outputs": [
    {
     "data": {
      "text/latex": [
       "$\\displaystyle a^{2}+b^{2}=c^{2}$"
      ],
      "text/plain": [
       "<IPython.core.display.Math object>"
      ]
     },
     "metadata": {},
     "output_type": "display_data"
    }
   ],
   "source": [
    "\n",
    "from IPython.display import display, Math\n",
    "display(Math(cleaned_latex))"
   ]
  }
 ],
 "metadata": {
  "kernelspec": {
   "display_name": "Python 3",
   "language": "python",
   "name": "python3"
  },
  "language_info": {
   "codemirror_mode": {
    "name": "ipython",
    "version": 3
   },
   "file_extension": ".py",
   "mimetype": "text/x-python",
   "name": "python",
   "nbconvert_exporter": "python",
   "pygments_lexer": "ipython3",
   "version": "3.11.4"
  }
 },
 "nbformat": 4,
 "nbformat_minor": 2
}
